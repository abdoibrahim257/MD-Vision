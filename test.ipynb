{
 "cells": [
  {
   "cell_type": "code",
   "execution_count": 1,
   "metadata": {},
   "outputs": [
    {
     "name": "stdout",
     "output_type": "stream",
     "text": [
      "Current Question: Is your appetite the same as usual?\n",
      "If the answer is No: Do you have a fever?\n",
      "If the answer is Yes: Do you have a cough?\n"
     ]
    }
   ],
   "source": [
    "from treeDS import TreeNode\n",
    "\n",
    "#init a node\n",
    "node = TreeNode(\"Is your appetite the same as usual?\")\n",
    "node.add_Left(\"Do you have a fever?\")\n",
    "node.add_Right(\"Do you have a cough?\")\n",
    "\n",
    "node.print_node()\n"
   ]
  },
  {
   "cell_type": "markdown",
   "metadata": {},
   "source": [
    "## Test on Build tree structure\n",
    "#### overweight chart"
   ]
  },
  {
   "cell_type": "code",
   "execution_count": 2,
   "metadata": {},
   "outputs": [
    {
     "ename": "IndentationError",
     "evalue": "expected an indented block after function definition on line 28 (3515537409.py, line 30)",
     "output_type": "error",
     "traceback": [
      "\u001b[1;36m  Cell \u001b[1;32mIn[2], line 30\u001b[1;36m\u001b[0m\n\u001b[1;33m    def build_tree(node, question):\u001b[0m\n\u001b[1;37m    ^\u001b[0m\n\u001b[1;31mIndentationError\u001b[0m\u001b[1;31m:\u001b[0m expected an indented block after function definition on line 28\n"
     ]
    }
   ],
   "source": [
    "import treeDS as ds\n",
    "import json\n",
    "\n",
    "overweight = ds.Tree(\"Have you been overweight most of your life?\", \"Overweight\")\n",
    "# newNodeQ = \"Have you been overweight most of your life?\"\n",
    "# overweight.add_node(newNodeQ, \"Are both of your parents overweight?\", \"Yes\")\n",
    "\n",
    "\n",
    "# question:{\n",
    "#     \"Q\": \"Have you been overweight most of your life?\",\n",
    "#     Yes:{\n",
    "#          question : {\n",
    "#           \"Q\": \"Are both of your parents overweight?\",\n",
    "#           Yes:{},\n",
    "#           No:{}\n",
    "#          }\n",
    "#     },\n",
    "#     No:{\n",
    "#         question : {\n",
    "#           \"Q\": \"Are both of your parents overweight?\",\n",
    "#           Yes:{},\n",
    "#           No:{}\n",
    "#         }\n",
    "#     }\n",
    "# }\n",
    "\n",
    "\n",
    "\n",
    "            \n",
    "\n"
   ]
  },
  {
   "cell_type": "code",
   "execution_count": null,
   "metadata": {},
   "outputs": [],
   "source": []
  }
 ],
 "metadata": {
  "kernelspec": {
   "display_name": "base",
   "language": "python",
   "name": "python3"
  },
  "language_info": {
   "codemirror_mode": {
    "name": "ipython",
    "version": 3
   },
   "file_extension": ".py",
   "mimetype": "text/x-python",
   "name": "python",
   "nbconvert_exporter": "python",
   "pygments_lexer": "ipython3",
   "version": "3.11.5"
  }
 },
 "nbformat": 4,
 "nbformat_minor": 2
}
