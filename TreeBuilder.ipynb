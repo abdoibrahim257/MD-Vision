{
 "cells": [
  {
   "cell_type": "code",
   "execution_count": 4,
   "metadata": {},
   "outputs": [],
   "source": [
    "from treeDS import TreeDS\n",
    "from treeDS import TreeNode\n",
    "import json"
   ]
  },
  {
   "cell_type": "code",
   "execution_count": 5,
   "metadata": {},
   "outputs": [],
   "source": [
    "def print_tree(node, indent=0):\n",
    "    if node is not None:\n",
    "        print(' ' * indent, node.get_question())\n",
    "        if node.get_yes() is not None:\n",
    "            print(' ' * (indent + 2), 'Yes:', end=' ')\n",
    "            print_tree(node.get_yes(), indent + 4)\n",
    "        if node.get_no() is not None:\n",
    "            print(' ' * (indent + 2), 'No:', end=' ')\n",
    "            print_tree(node.get_no(), indent + 4)"
   ]
  },
  {
   "cell_type": "markdown",
   "metadata": {},
   "source": [
    "## Building Tree from JSON"
   ]
  },
  {
   "cell_type": "markdown",
   "metadata": {},
   "source": [
    "##### Unexpected Weight Loss"
   ]
  },
  {
   "cell_type": "code",
   "execution_count": 6,
   "metadata": {},
   "outputs": [
    {
     "name": "stdout",
     "output_type": "stream",
     "text": [
      " Is your appetite the same as usual?\n",
      "   Yes:      Have you been getting more exercise than usual?\n",
      "       Yes:          See your doctor if you continue to lose weight quickly or for no apparent reason. If you feel healthy and have no other symptoms, you are probably losing weight because you are burning more calories than you are consuming.\n",
      "       No:          Do you have one or more of the following symptoms? \n",
      "• Unusually frequent urination \n",
      "• Increased thirst \n",
      "• Unexplained fatigue \n",
      "• Itching around the genitals \n",
      "• Blurred vision\n",
      "           Yes:              See a doctor immediately You may have DIABETES.\n",
      "           No:              Do you have two or more of the following symptoms? \n",
      "• Excessive sweating \n",
      "• Weakness or trembling \n",
      "• Unexplained fatigue \n",
      "• Bulging eyes\n",
      "               Yes:                  See your doctor. You may have an OVERACTIVE THYROID GLAND.\n",
      "               No:                  See your doctor. If you feel healthy, your weight loss is probably normal. However, there is a slight possibility that you have an infection or cancer.\n",
      "   No:      Do you have diarrhea?\n",
      "       Yes:          Is your stool pale, bulky, floating, and greasy?\n",
      "           Yes:              See your doctor. You may have a disorder that blocks your body's ability to absorb nutrients, such as CELIAC DISEASE, INFLAMMATORY BOWEL DISEASE, or LACTOSE INTOLERANCE\n",
      "           No:              See a doctor immediately. You may have INFLAMNWORY BOWEL DISEASE or COLON CANCER.\n",
      "       No:          Have your bowel habits changed, or is there blood in your stools?\n",
      "           Yes:              See a doctor immediately. You may have INFLAMNWORY BOWEL DISEASE or COLON CANCER.\n",
      "           No:              Have you been having recurring attacks of upper abdominal pain?\n",
      "               Yes:                  See a doctor immediately. You may have a PEPTIC ULCER, GALLSTONES, or CANCER or THE STOMACH.\n",
      "               No:                  Do you have two or more of the following symptoms?\n",
      "• Sweating at night\n",
      "• Recurring fever\n",
      "• Unexplained fatigue\n",
      "• Feeling generally ill\n",
      "• Persistent cough\n",
      "• Coughing up blood-ting ed mucus\n",
      "                   Yes:                      See a doctor immediately. You may have a serious chronic infection, such as TUBERCULOSIS or HIV. See HIV INFECTION AND AIDS. Or you could have a type of cancer such as HODGKIN'S DISEASE.\n",
      "                   No:                      See your doctor if you are unable to make a diagnosis from this chat.\n"
     ]
    }
   ],
   "source": [
    "with open('./unexplained_weight_loss.json') as f:\n",
    "    data = json.load(f)\n",
    "unexpectedWeightLoss = TreeDS(data['question'].get('Q'), \"Unexpected Weight Loss\")\n",
    "unexpectedWeightLoss.build_tree1(data)\n",
    "print_tree(unexpectedWeightLoss.root)"
   ]
  },
  {
   "cell_type": "markdown",
   "metadata": {},
   "source": []
  },
  {
   "cell_type": "code",
   "execution_count": null,
   "metadata": {},
   "outputs": [],
   "source": [
    "\n",
    "\n",
    "overweight = TreeDS(\"Have you been overweight most of your life?\", \"Overweight\")\n",
    "\n",
    "# read overwight json file\n",
    "with open(\"overweight.json\") as f:\n",
    "    data = json.load(f) \n",
    "    \n",
    "overweight.build_tree1(data)"
   ]
  },
  {
   "cell_type": "code",
   "execution_count": null,
   "metadata": {},
   "outputs": [],
   "source": []
  }
 ],
 "metadata": {
  "kernelspec": {
   "display_name": "base",
   "language": "python",
   "name": "python3"
  },
  "language_info": {
   "codemirror_mode": {
    "name": "ipython",
    "version": 3
   },
   "file_extension": ".py",
   "mimetype": "text/x-python",
   "name": "python",
   "nbconvert_exporter": "python",
   "pygments_lexer": "ipython3",
   "version": "3.11.5"
  }
 },
 "nbformat": 4,
 "nbformat_minor": 2
}
