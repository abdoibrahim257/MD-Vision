{
  "cells": [
    {
      "cell_type": "code",
      "execution_count": null,
      "metadata": {
        "id": "PJx2YIde6px0",
        "metadata": {}
      },
      "outputs": [],
      "source": [
        "import urllib.request\n",
        "import pandas as pd\n",
        "\n",
        "\n",
        "df = pd.read_csv(\"https://raw.githubusercontent.com/ingus-t/SPAI/master/resources/Data_Entry_2017.csv\")\n",
        "\n",
        "def download_all_images():\n",
        "  # URLs for the zip files\n",
        "  links = [\n",
        "      'https://nihcc.box.com/shared/static/vfk49d74nhbxq3nqjg0900w5nvkorp5c.gz',\n",
        "      'https://nihcc.box.com/shared/static/i28rlmbvmfjbl8p2n3ril0pptcmcu9d1.gz',\n",
        "      'https://nihcc.box.com/shared/static/f1t00wrtdk94satdfb9olcolqx20z2jp.gz',\n",
        "      'https://nihcc.box.com/shared/static/0aowwzs5lhjrceb3qp67ahp0rd1l1etg.gz',\n",
        "      'https://nihcc.box.com/shared/static/v5e3goj22zr6h8tzualxfsqlqaygfbsn.gz',\n",
        "      'https://nihcc.box.com/shared/static/asi7ikud9jwnkrnkj99jnpfkjdes7l6l.gz',\n",
        "      'https://nihcc.box.com/shared/static/jn1b4mw4n6lnh74ovmcjb8y48h8xj07n.gz',\n",
        "      'https://nihcc.box.com/shared/static/tvpxmn7qyrgl0w8wfh9kqfjskv6nmm1j.gz',\n",
        "      'https://nihcc.box.com/shared/static/upyy3ml7qdumlgk2rfcvlb9k6gvqq2pj.gz',\n",
        "      'https://nihcc.box.com/shared/static/l6nilvfa9cg3s28tqv1qc1olm3gnz54p.gz',\n",
        "      'https://nihcc.box.com/shared/static/hhq8fkdgvcari67vfhs7ppg2w6ni4jze.gz',\n",
        "      'https://nihcc.box.com/shared/static/ioqwiy20ihqwyr8pf4c24eazhh281pbu.gz'\n",
        "  ]\n",
        "\n",
        "  for idx, link in enumerate(links):\n",
        "      fn = 'images_%02d.tar.gz' % (idx+1)\n",
        "      print ('downloading', fn, '...')\n",
        "      urllib.request.urlretrieve(link, fn)  # download the zip file\n",
        "  print (\"Download complete. Please check the checksums\")"
      ]
    },
    {
      "cell_type": "code",
      "execution_count": null,
      "metadata": {
        "colab": {
          "base_uri": "https://localhost:8080/"
        },
        "id": "bGvmZdDC70-1",
        "metadata": {},
        "outputId": "d6be00f7-5aca-4385-8e6f-07b6e8d89e85"
      },
      "outputs": [],
      "source": [
        "# download_all_images()"
      ]
    },
    {
      "cell_type": "code",
      "execution_count": null,
      "metadata": {
        "colab": {
          "base_uri": "https://localhost:8080/"
        },
        "collapsed": true,
        "id": "pjNFrvIEYCqu",
        "outputId": "82c79519-5be9-4b3d-f5e7-fe7ea7c64bae"
      },
      "outputs": [],
      "source": [
        "# tar -xzvf images_12.tar.gz"
      ]
    },
    {
      "cell_type": "markdown",
      "metadata": {
        "id": "tRTU1H-bbJWq"
      },
      "source": [
        "# Data cleaning"
      ]
    },
    {
      "cell_type": "code",
      "execution_count": null,
      "metadata": {
        "colab": {
          "base_uri": "https://localhost:8080/",
          "height": 243
        },
        "id": "IQ1GTMg0bMX7",
        "metadata": {},
        "outputId": "fdb47f90-a96f-4de9-d659-77f907fa4ff9"
      },
      "outputs": [],
      "source": [
        "import pandas as pd\n",
        "\n",
        "df = pd.read_csv(\"https://raw.githubusercontent.com/ingus-t/SPAI/master/resources/Data_Entry_2017.csv\")\n",
        "df.head(5)"
      ]
    },
    {
      "cell_type": "code",
      "execution_count": null,
      "metadata": {
        "id": "c-B2z1u7dRih",
        "metadata": {}
      },
      "outputs": [],
      "source": [
        "# create columns with disease name and set 1s and 0s according to finding labesl\n",
        "diseases = [\"No Finding\",\n",
        "            \"Infiltration\",\n",
        "            \"Atelectasis\",\n",
        "            \"Effusion\",\n",
        "            \"Nodule\",\n",
        "            \"Pneumothorax\",\n",
        "            \"Mass\",\n",
        "            \"Consolidation\",\n",
        "            \"Pleural_Thickening\",\n",
        "            \"Cardiomegaly\",\n",
        "            \"Emphysema\",\n",
        "            \"Fibrosis\",\n",
        "            \"Edema\",\n",
        "            \"Pneumonia\",\n",
        "            \"Hernia\"]\n",
        "\n",
        "#loop on each\n",
        "for disease in diseases:\n",
        "  df[disease] = df['Finding Labels'].map(lambda x: 1 if disease in x else 0)\n",
        "df2 = df.copy()\n"
      ]
    },
    {
      "cell_type": "code",
      "execution_count": null,
      "metadata": {
        "colab": {
          "base_uri": "https://localhost:8080/",
          "height": 400
        },
        "id": "c-wF6qkNf4yG",
        "metadata": {},
        "outputId": "0ad22aff-d43b-4ef5-ca6e-bac6d023486c"
      },
      "outputs": [],
      "source": [
        "df2.drop(df2.columns[[2,3,4,5,6]], axis=1, inplace=True) #3mlt run kaza mara 3lashan ashel ely malosh lazma\n",
        "df2.head(10)"
      ]
    },
    {
      "cell_type": "code",
      "execution_count": null,
      "metadata": {
        "colab": {
          "base_uri": "https://localhost:8080/",
          "height": 590
        },
        "id": "Dr1ogno3g8tN",
        "metadata": {},
        "outputId": "ab5cee18-ef78-48aa-a04e-056b59469e55"
      },
      "outputs": [],
      "source": [
        "df2['vector'] = df2.apply(lambda row: [row[col] for col in diseases], axis=1)\n",
        "df2.head()"
      ]
    },
    {
      "cell_type": "markdown",
      "metadata": {
        "id": "3Oq4lU_siPv8"
      },
      "source": [
        "# Image Resizing"
      ]
    },
    {
      "cell_type": "code",
      "execution_count": null,
      "metadata": {
        "id": "6fKyArjzh8ne",
        "metadata": {}
      },
      "outputs": [],
      "source": [
        "import cv2\n",
        "import os\n",
        "import numpy as np\n",
        "\n",
        "new_dim = (256,256)\n",
        "images_path = \"D:/GAM3A/5-Senior02/GP/1-ChatBot/GP-Chatbot/Dataset/images\"\n",
        "X = []\n",
        "Y = []\n",
        "for i, row in df2.iterrows():\n",
        "  # if i < 60652:\n",
        "  #   continue\n",
        "  if(i%10000 == 0):\n",
        "    print(i,'/',df2.shape[0])\n",
        "  img = cv2.imread(os.path.join(images_path, df2['Image Index'][i]))\n",
        "  img = cv2.resize(img,(256,256))\n",
        "  X.append(img)\n",
        "  Y.append(df2['vector'][i])\n"
      ]
    },
    {
      "cell_type": "code",
      "execution_count": null,
      "metadata": {
        "metadata": {}
      },
      "outputs": [],
      "source": [
        "print(len(X))"
      ]
    },
    {
      "cell_type": "code",
      "execution_count": null,
      "metadata": {
        "metadata": {}
      },
      "outputs": [],
      "source": [
        "print(X[60651])"
      ]
    },
    {
      "cell_type": "code",
      "execution_count": null,
      "metadata": {
        "metadata": {}
      },
      "outputs": [],
      "source": [
        "#save the data X and Y\n",
        "# import pickle\n",
        "\n",
        "# with open('X_rest.pickle', 'wb') as f:\n",
        "#     pickle.dump(X, f)\n",
        "# with open('Y_rest.pickle', 'wb') as f:\n",
        "#     pickle.dump(Y, f)"
      ]
    },
    {
      "cell_type": "markdown",
      "metadata": {},
      "source": [
        "# **Start HERE**"
      ]
    },
    {
      "cell_type": "code",
      "execution_count": 2,
      "metadata": {
        "metadata": {}
      },
      "outputs": [],
      "source": [
        "# type: ignore\n",
        "import pickle\n",
        "import matplotlib.pyplot as plt\n",
        "import numpy as np\n",
        "import torch"
      ]
    },
    {
      "cell_type": "code",
      "execution_count": 3,
      "metadata": {
        "metadata": {}
      },
      "outputs": [],
      "source": [
        "#load the data X and Y\n",
        "# X_1 = pickle.load(open('X_60652.pickle', 'rb'))\n",
        "X_2 = pickle.load(open('X_rest.pickle', 'rb'))\n",
        "\n",
        "# Y_1 = pickle.load(open('Y_60652.pickle', 'rb'))\n",
        "Y_2 = pickle.load(open('Y_rest.pickle', 'rb'))"
      ]
    },
    {
      "cell_type": "code",
      "execution_count": null,
      "metadata": {
        "metadata": {}
      },
      "outputs": [],
      "source": [
        "print(len(X_2))\n",
        "print(len(Y_2))"
      ]
    },
    {
      "cell_type": "code",
      "execution_count": 5,
      "metadata": {
        "metadata": {}
      },
      "outputs": [
        {
          "name": "stdout",
          "output_type": "stream",
          "text": [
            "Total (51468, 15)\n",
            "first Half (6000, 15)\n",
            "second Half (25734, 15)\n",
            "TOTAL\n",
            "[26254 10464  5511  6635  3223  2810  2925  2109  1672  1195  1184   546\n",
            "  1103   675    81]\n"
          ]
        },
        {
          "data": {
            "image/png": "[encoded data removed]",
            "text/plain": [
              "<Figure size 640x480 with 1 Axes>"
            ]
          },
          "metadata": {},
          "output_type": "display_data"
        },
        {
          "name": "stderr",
          "output_type": "stream",
          "text": [
            "C:\\Users\\Abdoi\\AppData\\Local\\Temp\\ipykernel_10896\\4120727645.py:26: UserWarning: set_ticklabels() should only be used with a fixed number of ticks, i.e. after set_ticks() or using a FixedLocator.\n",
            "  axs[0].set_xticklabels(labels, rotation=90)\n",
            "C:\\Users\\Abdoi\\AppData\\Local\\Temp\\ipykernel_10896\\4120727645.py:30: UserWarning: set_ticklabels() should only be used with a fixed number of ticks, i.e. after set_ticks() or using a FixedLocator.\n",
            "  axs[1].set_xticklabels(labels, rotation=90)\n"
          ]
        },
        {
          "data": {
            "image/png": "[encoded data removed]",
            "text/plain": [
              "<Figure size 1000x500 with 2 Axes>"
            ]
          },
          "metadata": {},
          "output_type": "display_data"
        }
      ],
      "source": [
        "total = np.array(Y_2)\n",
        "temp = np.array(Y_2[0:6000])\n",
        "temp2 = np.array(Y_2[25734::])\n",
        "\n",
        "print(\"Total\",total.shape)\n",
        "print(\"first Half\",temp.shape)\n",
        "print(\"second Half\",temp2.shape)\n",
        "\n",
        "labels = [\"No Finding\",\"Infiltration\",\"Atelectasis\",\"Effusion\",\"Nodule\",\"Pneumothorax\",\"Mass\",\"Consolidation\",\"Pleural_Thickening\",\"Cardiomegaly\",\"Emphysema\",\"Fibrosis\",\"Edema\",\"Pneumonia\",\"Hernia\"]\n",
        "\n",
        "label_Total = np.sum(total, axis=0)\n",
        "label_counts = np.sum(temp, axis=0)\n",
        "label_counts2 = np.sum(temp2, axis=0)\n",
        "\n",
        "print(\"TOTAL\")\n",
        "print(label_Total)\n",
        "plt.bar(labels, label_Total)\n",
        "plt.xticks(rotation=90)\n",
        "plt.show()\n",
        "\n",
        "# Make as subplots\n",
        "fig, axs = plt.subplots(1, 2, figsize=(10, 5))  # Adjust figsize as needed\n",
        "\n",
        "axs[0].title.set_text('First Half')\n",
        "axs[0].bar(labels, label_counts)\n",
        "axs[0].set_xticklabels(labels, rotation=90)\n",
        "\n",
        "axs[1].title.set_text('Second Half')\n",
        "axs[1].bar(labels, label_counts2)\n",
        "axs[1].set_xticklabels(labels, rotation=90)\n",
        "\n",
        "plt.tight_layout()\n",
        "plt.show()\n",
        "\n",
        "#show plts horizontally\n"
      ]
    },
    {
      "cell_type": "code",
      "execution_count": null,
      "metadata": {
        "metadata": {}
      },
      "outputs": [],
      "source": [
        "X = X_2[0:30000]\n",
        "Y = Y_2[0:30000]\n",
        "del X_2\n",
        "del Y_2"
      ]
    },
    {
      "cell_type": "code",
      "execution_count": null,
      "metadata": {
        "metadata": {}
      },
      "outputs": [],
      "source": [
        "#data splitting \n",
        "#type: ignore\n",
        "from sklearn.model_selection import train_test_split\n",
        "X_train, X_test, y_train, y_test = train_test_split(X, Y, test_size=0.2, random_state=42) \n",
        "X_train, X_val, y_train, y_val = train_test_split(X_train, y_train, test_size=0.125, random_state=42)"
      ]
    },
    {
      "cell_type": "code",
      "execution_count": null,
      "metadata": {
        "metadata": {}
      },
      "outputs": [],
      "source": [
        "#start CUDA and convert eveything to tensor\n",
        "device = torch.device(\"cuda\" if torch.cuda.is_available() else \"cpu\")\n",
        "print(device)\n",
        "#get curr device name\n",
        "print(torch.cuda.get_device_name(0))"
      ]
    },
    {
      "cell_type": "code",
      "execution_count": null,
      "metadata": {
        "metadata": {}
      },
      "outputs": [],
      "source": [
        "#convert to numpy array\n",
        "X_train = np.array(X_train)\n",
        "X_test = np.array(X_test)\n",
        "X_val = np.array(X_val)\n",
        "\n",
        "y_train = np.array(y_train)\n",
        "y_test = np.array(y_test)\n",
        "y_val = np.array(y_val)"
      ]
    },
    {
      "cell_type": "code",
      "execution_count": null,
      "metadata": {
        "metadata": {}
      },
      "outputs": [],
      "source": [
        "# Convert X and Y to tensor and move to device\n",
        "X_train = torch.from_numpy(X_train).float().to(device)\n",
        "X_val = torch.from_numpy(X_val).float().to(device)\n",
        "X_test = torch.from_numpy(X_test).float().to(device)\n",
        "\n",
        "y_train = torch.from_numpy(y_train).int().to(device)\n",
        "y_val = torch.from_numpy(y_val).int().to(device)\n",
        "y_test = torch.from_numpy(y_test).int().to(device)"
      ]
    },
    {
      "cell_type": "markdown",
      "metadata": {
        "id": "pQmBBbyyPrxL"
      },
      "source": [
        "# CNN building"
      ]
    },
    {
      "cell_type": "code",
      "execution_count": null,
      "metadata": {
        "id": "6VqdKz0PQCsX",
        "metadata": {}
      },
      "outputs": [],
      "source": [
        "#type: ignore\n",
        "from tensorflow.keras.models import Sequential\n",
        "from tensorflow.keras.layers import Conv2D, MaxPooling2D, Flatten, Dense\n",
        "\n",
        "model = Sequential()\n",
        "model.add(Conv2D(32, (3, 3), activation='relu', input_shape=(256, 256, 3)))\n",
        "model.add(MaxPooling2D((2, 2)))\n",
        "\n",
        "model.add(Conv2D(64, (3, 3), activation='relu'))\n",
        "model.add(MaxPooling2D((2, 2)))\n",
        "\n",
        "model.add(Conv2D(128, (3, 3), activation='relu'))\n",
        "model.add(MaxPooling2D((2, 2)))\n",
        "\n",
        "model.add(Conv2D(128, (3, 3), activation='relu'))\n",
        "model.add(MaxPooling2D((2, 2)))\n",
        "\n",
        "model.add(Flatten())\n",
        "model.add(Dense(512, activation='relu'))\n",
        "model.add(Dense(15, activation='sigmoid'))\n",
        "\n",
        "model.compile(optimizer='adam', loss='binary_crossentropy', metrics=['accuracy'])\n",
        "\n",
        "model.summary()"
      ]
    },
    {
      "cell_type": "markdown",
      "metadata": {},
      "source": [
        "## train the model\n"
      ]
    },
    {
      "cell_type": "code",
      "execution_count": null,
      "metadata": {
        "metadata": {}
      },
      "outputs": [],
      "source": [
        "X_train = np.array(X_train)\n",
        "y_train = np.array(y_train)\n",
        "X_val = np.array(X_val)\n",
        "y_val = np.array(y_val)"
      ]
    },
    {
      "cell_type": "code",
      "execution_count": null,
      "metadata": {
        "metadata": {}
      },
      "outputs": [],
      "source": [
        "#start training on validation data\n",
        "history = model.fit(X_train, y_train, epochs=5, batch_size=32, validation_data=(X_val, y_val))"
      ]
    },
    {
      "cell_type": "code",
      "execution_count": null,
      "metadata": {
        "metadata": {}
      },
      "outputs": [],
      "source": [
        "#save the model as pickle\n",
        "import pickle\n",
        "with open('./models/model_X2_0_30K_50PERCENT.pickle', 'wb') as f:\n",
        "    pickle.dump(model, f)"
      ]
    }
  ],
  "metadata": {
    "colab": {
      "provenance": []
    },
    "kernelspec": {
      "display_name": "Python 3",
      "name": "python3"
    },
    "language_info": {
      "codemirror_mode": {
        "name": "ipython",
        "version": 3
      },
      "file_extension": ".py",
      "mimetype": "text/x-python",
      "name": "python",
      "nbconvert_exporter": "python",
      "pygments_lexer": "ipython3",
      "version": "3.11.3"
    }
  },
  "nbformat": 4,
  "nbformat_minor": 0
}
