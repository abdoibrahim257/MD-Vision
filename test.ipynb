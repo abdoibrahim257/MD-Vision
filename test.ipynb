{
 "cells": [
  {
   "cell_type": "code",
   "execution_count": 1,
   "metadata": {},
   "outputs": [
    {
     "name": "stdout",
     "output_type": "stream",
     "text": [
      "Current Question: Is your appetite the same as usual?\n",
      "If the answer is No: Do you have a fever?\n",
      "If the answer is Yes: Do you have a cough?\n"
     ]
    }
   ],
   "source": [
    "from treeDS import TreeNode\n",
    "\n",
    "#init a node\n",
    "node = TreeNode(\"Is your appetite the same as usual?\")\n",
    "node.add_Left(\"Do you have a fever?\")\n",
    "node.add_Right(\"Do you have a cough?\")\n",
    "\n",
    "node.print_node()\n"
   ]
  },
  {
   "cell_type": "markdown",
   "metadata": {},
   "source": [
    "## Test on Build tree structure\n",
    "#### overweight chart"
   ]
  },
  {
   "cell_type": "code",
   "execution_count": 2,
   "metadata": {},
   "outputs": [],
   "source": [
    "from treeDS import TreeDS\n",
    "import json\n",
    "\n",
    "overweight = TreeDS(\"Have you been overweight most of your life?\", \"Overweight\")\n",
    "\n",
    "# read overwight json file\n",
    "with open(\"overweight.json\") as f:\n",
    "    data = json.load(f) \n",
    "    \n",
    "overweight.build_tree1(data)\n",
    "# overweight.build_tree1(data['question']['No'])\n",
    "x = 0\n",
    "    \n",
    "\n",
    "\n",
    "\n",
    "\n",
    "            \n",
    "\n"
   ]
  },
  {
   "cell_type": "code",
   "execution_count": null,
   "metadata": {},
   "outputs": [],
   "source": []
  }
 ],
 "metadata": {
  "kernelspec": {
   "display_name": "base",
   "language": "python",
   "name": "python3"
  },
  "language_info": {
   "codemirror_mode": {
    "name": "ipython",
    "version": 3
   },
   "file_extension": ".py",
   "mimetype": "text/x-python",
   "name": "python",
   "nbconvert_exporter": "python",
   "pygments_lexer": "ipython3",
   "version": "3.11.5"
  }
 },
 "nbformat": 4,
 "nbformat_minor": 2
}
